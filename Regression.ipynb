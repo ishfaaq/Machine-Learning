{
 "cells": [
  {
   "cell_type": "code",
   "execution_count": 1,
   "metadata": {},
   "outputs": [],
   "source": [
    "import math\n",
    "import numpy as np\n",
    "from sklearn import linear_model\n",
    "import matplotlib.pyplot as plt\n",
    "from sklearn.metrics import mean_squared_error\n",
    "from sklearn.preprocessing import PolynomialFeatures\n",
    "from sklearn.model_selection import train_test_split\n",
    "from sklearn.preprocessing import StandardScaler\n",
    "import warnings\n",
    "warnings.filterwarnings('ignore')  # \"error\", \"ignore\", \"always\", \"default\", \"module\" or \"once\"\n",
    "\n",
    "scl = StandardScaler()\n",
    "poly = PolynomialFeatures(2,include_bias = False)\n",
    "score = 0"
   ]
  },
  {
   "cell_type": "code",
   "execution_count": 2,
   "metadata": {},
   "outputs": [],
   "source": [
    "dataPath = 'Concrete_Data_Yeh.csv'\n",
    "def loadData():\n",
    "    global data, label, dataPath, xTr, xCV, yTr, yCV, scl, poly\n",
    "    dataAll = np.loadtxt(dataPath,delimiter = ',',skiprows=1)\n",
    "    data = dataAll[:,:7]\n",
    "    label = dataAll[:,8].reshape(-1,1)\n",
    "    xTr, xCV, yTr, yCV = train_test_split(data, label, test_size = 0.17,random_state=0)\n",
    "    #xTr = xTr.reshape(-1,)\n",
    "    #xCV = xCV.reshape(-1,)\n",
    "    #yTr = yTr.reshape(-1,1)\n",
    "    #yCV = yCV.reshape(-1,1)\n",
    "    xTr = poly.fit_transform(xTr)\n",
    "    xCV = poly.transform(xCV)\n",
    "    xTr = scl.fit_transform(xTr)\n",
    "    xCV = scl.transform(xCV)"
   ]
  },
  {
   "cell_type": "code",
   "execution_count": 3,
   "metadata": {},
   "outputs": [],
   "source": [
    "def linearRegression():\n",
    "    global xTr,xCV,yTr,yCV\n",
    "    linReg = linear_model.LinearRegression()\n",
    "    linReg.fit(xTr,yTr)\n",
    "    linPred = linReg.predict(xCV)\n",
    "    err = mean_squared_error(yCV, linPred)\n",
    "    print('MSE for Linear regression: '+str(err))\n",
    "def gradientDescent():\n",
    "    global xTr,xCV,yTr,yCV\n",
    "    grad = linear_model.SGDRegressor()\n",
    "    grad.fit(xTr,yTr)\n",
    "    gradPred = grad.predict(xCV)\n",
    "    err = mean_squared_error(yCV, gradPred)\n",
    "    print('MSE for Gradient Descent: '+str(err))"
   ]
  },
  {
   "cell_type": "code",
   "execution_count": 4,
   "metadata": {},
   "outputs": [
    {
     "name": "stdout",
     "output_type": "stream",
     "text": [
      "MSE for Linear regression: 144.6006131007073\n",
      "MSE for Gradient Descent: 150.3184603188214\n"
     ]
    }
   ],
   "source": [
    "loadData()\n",
    "linearRegression()\n",
    "gradientDescent()"
   ]
  },
  {
   "cell_type": "code",
   "execution_count": null,
   "metadata": {},
   "outputs": [],
   "source": []
  }
 ],
 "metadata": {
  "interpreter": {
   "hash": "a49258ae6be9075b685fca178e211df29dba86a81672dc113bbc92898f962590"
  },
  "kernelspec": {
   "display_name": "Python 3.9.7 64-bit ('base': conda)",
   "name": "python3"
  },
  "language_info": {
   "codemirror_mode": {
    "name": "ipython",
    "version": 3
   },
   "file_extension": ".py",
   "mimetype": "text/x-python",
   "name": "python",
   "nbconvert_exporter": "python",
   "pygments_lexer": "ipython3",
   "version": "3.9.7"
  },
  "orig_nbformat": 4
 },
 "nbformat": 4,
 "nbformat_minor": 2
}
